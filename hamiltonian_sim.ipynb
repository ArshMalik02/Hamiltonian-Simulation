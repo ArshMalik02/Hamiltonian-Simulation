{
 "cells": [
  {
   "cell_type": "markdown",
   "metadata": {},
   "source": [
    "## CS 238B: Hamiltonian Simulation in Qiskit"
   ]
  },
  {
   "cell_type": "code",
   "execution_count": 4,
   "metadata": {},
   "outputs": [],
   "source": [
    "from qiskit import *\n",
    "import numpy as np"
   ]
  },
  {
   "cell_type": "code",
   "execution_count": 18,
   "metadata": {},
   "outputs": [
    {
     "name": "stdout",
     "output_type": "stream",
     "text": [
      "       ┌───┐┌───────┐┌───┐\n",
      "q31_0: ┤ H ├┤ Rz(2) ├┤ H ├\n",
      "       ├───┤├───────┤├───┤\n",
      "q31_1: ┤ H ├┤ Rz(2) ├┤ H ├\n",
      "       ├───┤├───────┤├───┤\n",
      "q31_2: ┤ H ├┤ Rz(2) ├┤ H ├\n",
      "       └───┘└───────┘└───┘\n",
      " c8: 3/═══════════════════\n",
      "                          \n",
      "Operator([[ 0.158-0.j   , -0.   -0.246j, -0.   -0.246j, -0.383+0.j   ,\n",
      "           -0.   -0.246j, -0.383+0.j   , -0.383+0.j   ,  0.   +0.596j],\n",
      "          [-0.   -0.246j,  0.158-0.j   , -0.383+0.j   , -0.   -0.246j,\n",
      "           -0.383+0.j   , -0.   -0.246j,  0.   +0.596j, -0.383+0.j   ],\n",
      "          [-0.   -0.246j, -0.383+0.j   ,  0.158-0.j   , -0.   -0.246j,\n",
      "           -0.383+0.j   ,  0.   +0.596j, -0.   -0.246j, -0.383+0.j   ],\n",
      "          [-0.383+0.j   , -0.   -0.246j, -0.   -0.246j,  0.158-0.j   ,\n",
      "            0.   +0.596j, -0.383+0.j   , -0.383+0.j   ,  0.   -0.246j],\n",
      "          [-0.   -0.246j, -0.383+0.j   , -0.383+0.j   ,  0.   +0.596j,\n",
      "            0.158-0.j   , -0.   -0.246j, -0.   -0.246j, -0.383+0.j   ],\n",
      "          [-0.383+0.j   , -0.   -0.246j,  0.   +0.596j, -0.383+0.j   ,\n",
      "           -0.   -0.246j,  0.158+0.j   , -0.383+0.j   ,  0.   -0.246j],\n",
      "          [-0.383+0.j   ,  0.   +0.596j, -0.   -0.246j, -0.383+0.j   ,\n",
      "           -0.   -0.246j, -0.383+0.j   ,  0.158-0.j   , -0.   -0.246j],\n",
      "          [ 0.   +0.596j, -0.383+0.j   , -0.383+0.j   ,  0.   -0.246j,\n",
      "           -0.383+0.j   ,  0.   -0.246j, -0.   -0.246j,  0.158+0.j   ]],\n",
      "         input_dims=(2, 2, 2), output_dims=(2, 2, 2))\n"
     ]
    }
   ],
   "source": [
    "# Example 1: Hamiltonian H = gj * Xj, where gj is a constant and Xj is the Pauli-X operator acting on qubit j\n",
    "\n",
    "# Define the number of qubits\n",
    "n = 3\n",
    "\n",
    "# Construct the circuit for this Hamiltonian simulation using 3 qubits\n",
    "q = QuantumRegister(n)\n",
    "c = ClassicalRegister(n)\n",
    "circuit = QuantumCircuit(q, c)\n",
    "\n",
    "# Define the constants\n",
    "g = 1.0\n",
    "t = 1.0\n",
    "\n",
    "# Apply the following sequence of gates to each qubit j: Hadamard H gate, RZ gate with angle 2 * g * t, Hadamard H gate\n",
    "for j in range(n):\n",
    "    circuit.h(q[j])\n",
    "    circuit.rz(2 * g * t, q[j])\n",
    "    circuit.h(q[j])\n",
    "\n",
    "# Print the circuit\n",
    "print(circuit)\n",
    "\n",
    "# Simulate the circuit\n",
    "sim = Aer.get_backend('unitary_simulator')\n",
    "job = sim.run(transpile(circuit,backend=sim), shots=1)\n",
    "result = job.result()\n",
    "print(result.get_unitary(circuit, decimals=3))\n",
    "\n"
   ]
  },
  {
   "cell_type": "markdown",
   "metadata": {},
   "source": [
    "## Correctness verification for example 1\n",
    "\n"
   ]
  },
  {
   "cell_type": "code",
   "execution_count": 19,
   "metadata": {},
   "outputs": [
    {
     "name": "stdout",
     "output_type": "stream",
     "text": [
      "[[0. 1. 1. 0. 1. 0. 0. 0.]\n",
      " [1. 0. 0. 1. 0. 1. 0. 0.]\n",
      " [1. 0. 0. 1. 0. 0. 1. 0.]\n",
      " [0. 1. 1. 0. 0. 0. 0. 1.]\n",
      " [1. 0. 0. 0. 0. 1. 1. 0.]\n",
      " [0. 1. 0. 0. 1. 0. 0. 1.]\n",
      " [0. 0. 1. 0. 1. 0. 0. 1.]\n",
      " [0. 0. 0. 1. 0. 1. 1. 0.]]\n",
      "[[ 0.158+0.j     0.   -0.246j  0.   -0.246j -0.383+0.j     0.   -0.246j\n",
      "  -0.383+0.j    -0.383+0.j     0.   +0.596j]\n",
      " [ 0.   -0.246j  0.158+0.j    -0.383+0.j     0.   -0.246j -0.383+0.j\n",
      "   0.   -0.246j  0.   +0.596j -0.383+0.j   ]\n",
      " [ 0.   -0.246j -0.383+0.j     0.158+0.j     0.   -0.246j -0.383+0.j\n",
      "   0.   +0.596j  0.   -0.246j -0.383+0.j   ]\n",
      " [-0.383+0.j     0.   -0.246j  0.   -0.246j  0.158+0.j     0.   +0.596j\n",
      "  -0.383+0.j    -0.383+0.j     0.   -0.246j]\n",
      " [ 0.   -0.246j -0.383+0.j    -0.383+0.j     0.   +0.596j  0.158+0.j\n",
      "   0.   -0.246j  0.   -0.246j -0.383+0.j   ]\n",
      " [-0.383+0.j     0.   -0.246j  0.   +0.596j -0.383+0.j     0.   -0.246j\n",
      "   0.158+0.j    -0.383+0.j     0.   -0.246j]\n",
      " [-0.383+0.j     0.   +0.596j  0.   -0.246j -0.383+0.j     0.   -0.246j\n",
      "  -0.383+0.j     0.158+0.j     0.   -0.246j]\n",
      " [ 0.   +0.596j -0.383+0.j    -0.383+0.j     0.   -0.246j -0.383+0.j\n",
      "   0.   -0.246j  0.   -0.246j  0.158+0.j   ]]\n"
     ]
    }
   ],
   "source": [
    "from scipy.linalg import expm\n",
    "\n",
    "# Define the Identity matrix\n",
    "I = np.eye(2)\n",
    "\n",
    "# Define the Pauli-X matrix\n",
    "X = np.array([[0, 1], [1, 0]])\n",
    "\n",
    "# Calculute X_0 = X⊗I⊗I\n",
    "X0 = kron(X, kron(I, I))\n",
    "\n",
    "# Calculate X_1 = I⊗X⊗I\n",
    "X1 = kron(I, kron(X, I))\n",
    "\n",
    "# Calculate X_2 = I⊗I⊗X\n",
    "X2 = kron(I, kron(I, X))\n",
    "\n",
    "# The Hamiltonian matrix is obtained by summing the three tensor products\n",
    "H = g * (X0 + X1 + X2) # g = 1\n",
    "\n",
    "print(H)\n",
    "\n",
    "unitary = expm(H * -1j)\n",
    "\n",
    "# round the entries for better printing\n",
    "unitary = np.round(unitary, 3)\n",
    "print(unitary)\n",
    "\n",
    "\n",
    "\n"
   ]
  },
  {
   "cell_type": "code",
   "execution_count": 20,
   "metadata": {},
   "outputs": [
    {
     "name": "stdout",
     "output_type": "stream",
     "text": [
      "       ┌───┐┌───────┐┌───┐                                            »\n",
      "q34_0: ┤ H ├┤ Rz(2) ├┤ H ├──■──────────────■──────────────────────────»\n",
      "       └───┘└───────┘└───┘┌─┴─┐┌────────┐┌─┴─┐┌───┐┌───────┐┌───┐     »\n",
      "q34_1: ───────────────────┤ X ├┤ Rz(-2) ├┤ X ├┤ H ├┤ Rz(2) ├┤ H ├──■──»\n",
      "                          └───┘└────────┘└───┘└───┘└───────┘└───┘┌─┴─┐»\n",
      "q34_2: ──────────────────────────────────────────────────────────┤ X ├»\n",
      "                                                                 └───┘»\n",
      " c9: 3/═══════════════════════════════════════════════════════════════»\n",
      "                                                                      »\n",
      "«                      \n",
      "«q34_0: ───────────────\n",
      "«                      \n",
      "«q34_1: ────────────■──\n",
      "«       ┌────────┐┌─┴─┐\n",
      "«q34_2: ┤ Rz(-2) ├┤ X ├\n",
      "«       └────────┘└───┘\n",
      "« c9: 3/═══════════════\n",
      "«                      \n",
      "Operator([[-0.121+0.265j,  0.413+0.189j, -0.   -0.455j, -0.708+0.j   ,\n",
      "            0.   +0.j   ,  0.   +0.j   ,  0.   +0.j   ,  0.   +0.j   ],\n",
      "          [-0.   -0.455j,  0.292+0.j   ,  0.295-0.644j,  0.413+0.189j,\n",
      "            0.   +0.j   ,  0.   +0.j   ,  0.   +0.j   ,  0.   +0.j   ],\n",
      "          [-0.   -0.455j, -0.708+0.j   , -0.121-0.265j, -0.413+0.189j,\n",
      "            0.   +0.j   ,  0.   +0.j   ,  0.   +0.j   ,  0.   +0.j   ],\n",
      "          [ 0.295+0.644j, -0.413+0.189j,  0.   -0.455j,  0.292+0.j   ,\n",
      "            0.   +0.j   ,  0.   +0.j   ,  0.   +0.j   ,  0.   +0.j   ],\n",
      "          [ 0.   +0.j   ,  0.   +0.j   ,  0.   +0.j   ,  0.   +0.j   ,\n",
      "            0.292-0.j   , -0.   -0.455j, -0.413+0.189j,  0.295+0.644j],\n",
      "          [ 0.   +0.j   ,  0.   +0.j   ,  0.   +0.j   ,  0.   +0.j   ,\n",
      "           -0.413+0.189j, -0.121-0.265j, -0.708+0.j   ,  0.   -0.455j],\n",
      "          [ 0.   +0.j   ,  0.   +0.j   ,  0.   +0.j   ,  0.   +0.j   ,\n",
      "            0.413+0.189j,  0.295-0.644j,  0.292-0.j   , -0.   -0.455j],\n",
      "          [ 0.   +0.j   ,  0.   +0.j   ,  0.   +0.j   ,  0.   +0.j   ,\n",
      "           -0.708+0.j   ,  0.   -0.455j,  0.413+0.189j, -0.121+0.265j]],\n",
      "         input_dims=(2, 2, 2), output_dims=(2, 2, 2))\n"
     ]
    }
   ],
   "source": [
    "# Example 2: Hamiltonian H = gj * Xj - Zj * Zj+1, where gj is a constant, Xj is the Pauli-X operator acting on qubit j, and Zj is the Pauli-Z operator acting on qubit j\n",
    "\n",
    "# Define the number of qubits\n",
    "n = 3\n",
    "\n",
    "# Construct the circuit for this Hamiltonian simulation using 3 qubits\n",
    "q = QuantumRegister(n)\n",
    "c = ClassicalRegister(n)\n",
    "\n",
    "circuit = QuantumCircuit(q, c)\n",
    "\n",
    "# Define the constants\n",
    "g = 1.0\n",
    "t = 1.0\n",
    "\n",
    "# Apply the following sequence of gates to qubit 1: Hadamard H gate, RZ gate with angle 2 * g * t, Hadamard H gate\n",
    "circuit.h(q[0])\n",
    "circuit.rz(2 * g * t, q[0])\n",
    "circuit.h(q[0])\n",
    "\n",
    "# Apply controlled cnot gates to qubits 1 and 2\n",
    "circuit.cx(q[0], q[1])\n",
    "\n",
    "# Apply RZ gate with angle -2 * g * t to qubit 2\n",
    "circuit.rz(-2 * g * t, q[1])\n",
    "\n",
    "# Apply controlled cnot gates to qubits 1 and 2\n",
    "circuit.cx(q[0], q[1])\n",
    "\n",
    "# Apply the following sequence of gates to qubit 2: Hadamard H gate, RZ gate with angle 2 * g * t, Hadamard H gate\n",
    "circuit.h(q[1])\n",
    "circuit.rz(2 * g * t, q[1])\n",
    "circuit.h(q[1])\n",
    "\n",
    "# Apply controlled cnot gates to qubits 2 and 3\n",
    "circuit.cx(q[1], q[2])\n",
    "\n",
    "# Apply RZ gate with angle -2 * g * t to qubit 3\n",
    "circuit.rz(-2 * g * t, q[2])\n"
   ]
  },
  {
   "cell_type": "markdown",
   "metadata": {},
   "source": [
    "## Correctness verification for example 2"
   ]
  },
  {
   "cell_type": "code",
   "execution_count": 26,
   "metadata": {},
   "outputs": [
    {
     "name": "stdout",
     "output_type": "stream",
     "text": [
      "Calculated Unitary\n",
      " [[-0.566+0.394j  0.   +0.j     0.   -0.086j  0.   +0.j     0.48 -0.086j\n",
      "   0.   +0.j    -0.48 -0.222j  0.   +0.j   ]\n",
      " [ 0.   +0.j     0.393+0.222j  0.   +0.j     0.   -0.529j  0.   +0.j\n",
      "  -0.48 -0.086j  0.   +0.j    -0.48 -0.222j]\n",
      " [ 0.   -0.086j  0.   +0.j    -0.566-0.394j  0.   +0.j    -0.48 +0.222j\n",
      "   0.   +0.j    -0.48 -0.086j  0.   +0.j   ]\n",
      " [ 0.   +0.j     0.   -0.529j  0.   +0.j     0.393-0.222j  0.   +0.j\n",
      "  -0.48 +0.222j  0.   +0.j     0.48 -0.086j]\n",
      " [ 0.48 -0.086j  0.   +0.j    -0.48 +0.222j  0.   +0.j     0.393-0.222j\n",
      "   0.   +0.j     0.   -0.529j  0.   +0.j   ]\n",
      " [ 0.   +0.j    -0.48 -0.086j  0.   +0.j    -0.48 +0.222j  0.   +0.j\n",
      "  -0.566-0.394j  0.   +0.j     0.   -0.086j]\n",
      " [-0.48 -0.222j  0.   +0.j    -0.48 -0.086j  0.   +0.j    -0.   -0.529j\n",
      "   0.   +0.j     0.393+0.222j  0.   +0.j   ]\n",
      " [ 0.   +0.j    -0.48 -0.222j  0.   +0.j     0.48 -0.086j  0.   +0.j\n",
      "   0.   -0.086j  0.   +0.j    -0.566+0.394j]]\n"
     ]
    }
   ],
   "source": [
    "X0 = kron(X, kron(I, I))\n",
    "X1 = kron(I, kron(X, I))\n",
    "\n",
    "# Define the Pauli-Z matrix\n",
    "Z = np.array([[1, 0], [0, -1]])\n",
    "\n",
    "# Calculate Z_0 = Z⊗I⊗I\n",
    "Z0 = kron(Z, kron(I, I))\n",
    "\n",
    "# Calculate Z_1 = I⊗Z⊗I\n",
    "Z1 = kron(I, kron(Z, I))\n",
    "\n",
    "# Calculate Z_2 = I⊗I⊗Z\n",
    "Z2 = kron(I, kron(I, Z))\n",
    "\n",
    "negZ0Z1 = -1 * np.matmul(Z0, Z1)\n",
    "negZ1Z2 = -1 * np.matmul(Z1, Z2)\n",
    "\n",
    "H = X0 + negZ0Z1 + X1 + negZ1Z2\n",
    "\n",
    "unitary = expm(H * -1j)\n",
    "\n",
    "# round the entries for better printing\n",
    "unitary = np.round(unitary, 3)\n",
    "print(\"Calculated Unitary\\n\", unitary)"
   ]
  }
 ],
 "metadata": {
  "kernelspec": {
   "display_name": "quantum",
   "language": "python",
   "name": "python3"
  },
  "language_info": {
   "codemirror_mode": {
    "name": "ipython",
    "version": 3
   },
   "file_extension": ".py",
   "mimetype": "text/x-python",
   "name": "python",
   "nbconvert_exporter": "python",
   "pygments_lexer": "ipython3",
   "version": "3.11.6"
  }
 },
 "nbformat": 4,
 "nbformat_minor": 2
}
